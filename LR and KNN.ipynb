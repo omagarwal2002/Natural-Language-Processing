{
 "cells": [
  {
   "attachments": {},
   "cell_type": "markdown",
   "metadata": {},
   "source": [
    "https://www.kaggle.com/datasets/uciml/mushroom-classification\n",
    "\n",
    "\n",
    "\n",
    "Download the above dataset and solve the below questions:\n",
    "\n",
    "1) Perform Logistic Regression with GridSearch CV and show underfitting and overfitting for different values of the parameter \"C\". Show using a graph where y-axis would be train-test accuracy and x-axis would be \"C\".\n"
   ]
  },
  {
   "cell_type": "code",
   "execution_count": 1,
   "metadata": {},
   "outputs": [],
   "source": [
    "import pandas as pd\n",
    "from sklearn.model_selection import train_test_split, GridSearchCV\n",
    "from sklearn.linear_model import LogisticRegression\n",
    "from sklearn.metrics import accuracy_score\n",
    "import matplotlib.pyplot as plt\n",
    "\n",
    "# Load the mushroom classification dataset\n",
    "df = pd.read_csv(r'F:\\VS Code\\NLP Lab\\mushrooms.csv')"
   ]
  },
  {
   "cell_type": "code",
   "execution_count": 2,
   "metadata": {},
   "outputs": [],
   "source": [
    "# Preprocess the dataset\n",
    "X = pd.get_dummies(df.iloc[:, 1:])\n",
    "y = df.iloc[:, 0].apply(lambda x: 1 if x == 'p' else 0)\n",
    "\n",
    "# Split the dataset into train and test sets\n",
    "X_train, X_test, y_train, y_test = train_test_split(X, y, test_size=0.3, random_state=42)"
   ]
  },
  {
   "cell_type": "code",
   "execution_count": 3,
   "metadata": {},
   "outputs": [
    {
     "data": {
      "text/html": [
       "<style>#sk-container-id-1 {color: black;background-color: white;}#sk-container-id-1 pre{padding: 0;}#sk-container-id-1 div.sk-toggleable {background-color: white;}#sk-container-id-1 label.sk-toggleable__label {cursor: pointer;display: block;width: 100%;margin-bottom: 0;padding: 0.3em;box-sizing: border-box;text-align: center;}#sk-container-id-1 label.sk-toggleable__label-arrow:before {content: \"▸\";float: left;margin-right: 0.25em;color: #696969;}#sk-container-id-1 label.sk-toggleable__label-arrow:hover:before {color: black;}#sk-container-id-1 div.sk-estimator:hover label.sk-toggleable__label-arrow:before {color: black;}#sk-container-id-1 div.sk-toggleable__content {max-height: 0;max-width: 0;overflow: hidden;text-align: left;background-color: #f0f8ff;}#sk-container-id-1 div.sk-toggleable__content pre {margin: 0.2em;color: black;border-radius: 0.25em;background-color: #f0f8ff;}#sk-container-id-1 input.sk-toggleable__control:checked~div.sk-toggleable__content {max-height: 200px;max-width: 100%;overflow: auto;}#sk-container-id-1 input.sk-toggleable__control:checked~label.sk-toggleable__label-arrow:before {content: \"▾\";}#sk-container-id-1 div.sk-estimator input.sk-toggleable__control:checked~label.sk-toggleable__label {background-color: #d4ebff;}#sk-container-id-1 div.sk-label input.sk-toggleable__control:checked~label.sk-toggleable__label {background-color: #d4ebff;}#sk-container-id-1 input.sk-hidden--visually {border: 0;clip: rect(1px 1px 1px 1px);clip: rect(1px, 1px, 1px, 1px);height: 1px;margin: -1px;overflow: hidden;padding: 0;position: absolute;width: 1px;}#sk-container-id-1 div.sk-estimator {font-family: monospace;background-color: #f0f8ff;border: 1px dotted black;border-radius: 0.25em;box-sizing: border-box;margin-bottom: 0.5em;}#sk-container-id-1 div.sk-estimator:hover {background-color: #d4ebff;}#sk-container-id-1 div.sk-parallel-item::after {content: \"\";width: 100%;border-bottom: 1px solid gray;flex-grow: 1;}#sk-container-id-1 div.sk-label:hover label.sk-toggleable__label {background-color: #d4ebff;}#sk-container-id-1 div.sk-serial::before {content: \"\";position: absolute;border-left: 1px solid gray;box-sizing: border-box;top: 0;bottom: 0;left: 50%;z-index: 0;}#sk-container-id-1 div.sk-serial {display: flex;flex-direction: column;align-items: center;background-color: white;padding-right: 0.2em;padding-left: 0.2em;position: relative;}#sk-container-id-1 div.sk-item {position: relative;z-index: 1;}#sk-container-id-1 div.sk-parallel {display: flex;align-items: stretch;justify-content: center;background-color: white;position: relative;}#sk-container-id-1 div.sk-item::before, #sk-container-id-1 div.sk-parallel-item::before {content: \"\";position: absolute;border-left: 1px solid gray;box-sizing: border-box;top: 0;bottom: 0;left: 50%;z-index: -1;}#sk-container-id-1 div.sk-parallel-item {display: flex;flex-direction: column;z-index: 1;position: relative;background-color: white;}#sk-container-id-1 div.sk-parallel-item:first-child::after {align-self: flex-end;width: 50%;}#sk-container-id-1 div.sk-parallel-item:last-child::after {align-self: flex-start;width: 50%;}#sk-container-id-1 div.sk-parallel-item:only-child::after {width: 0;}#sk-container-id-1 div.sk-dashed-wrapped {border: 1px dashed gray;margin: 0 0.4em 0.5em 0.4em;box-sizing: border-box;padding-bottom: 0.4em;background-color: white;}#sk-container-id-1 div.sk-label label {font-family: monospace;font-weight: bold;display: inline-block;line-height: 1.2em;}#sk-container-id-1 div.sk-label-container {text-align: center;}#sk-container-id-1 div.sk-container {/* jupyter's `normalize.less` sets `[hidden] { display: none; }` but bootstrap.min.css set `[hidden] { display: none !important; }` so we also need the `!important` here to be able to override the default hidden behavior on the sphinx rendered scikit-learn.org. See: https://github.com/scikit-learn/scikit-learn/issues/21755 */display: inline-block !important;position: relative;}#sk-container-id-1 div.sk-text-repr-fallback {display: none;}</style><div id=\"sk-container-id-1\" class=\"sk-top-container\"><div class=\"sk-text-repr-fallback\"><pre>GridSearchCV(cv=5, estimator=LogisticRegression(max_iter=10000),\n",
       "             param_grid={&#x27;C&#x27;: [0.01, 0.1, 1, 10, 100]},\n",
       "             return_train_score=True)</pre><b>In a Jupyter environment, please rerun this cell to show the HTML representation or trust the notebook. <br />On GitHub, the HTML representation is unable to render, please try loading this page with nbviewer.org.</b></div><div class=\"sk-container\" hidden><div class=\"sk-item sk-dashed-wrapped\"><div class=\"sk-label-container\"><div class=\"sk-label sk-toggleable\"><input class=\"sk-toggleable__control sk-hidden--visually\" id=\"sk-estimator-id-1\" type=\"checkbox\" ><label for=\"sk-estimator-id-1\" class=\"sk-toggleable__label sk-toggleable__label-arrow\">GridSearchCV</label><div class=\"sk-toggleable__content\"><pre>GridSearchCV(cv=5, estimator=LogisticRegression(max_iter=10000),\n",
       "             param_grid={&#x27;C&#x27;: [0.01, 0.1, 1, 10, 100]},\n",
       "             return_train_score=True)</pre></div></div></div><div class=\"sk-parallel\"><div class=\"sk-parallel-item\"><div class=\"sk-item\"><div class=\"sk-label-container\"><div class=\"sk-label sk-toggleable\"><input class=\"sk-toggleable__control sk-hidden--visually\" id=\"sk-estimator-id-2\" type=\"checkbox\" ><label for=\"sk-estimator-id-2\" class=\"sk-toggleable__label sk-toggleable__label-arrow\">estimator: LogisticRegression</label><div class=\"sk-toggleable__content\"><pre>LogisticRegression(max_iter=10000)</pre></div></div></div><div class=\"sk-serial\"><div class=\"sk-item\"><div class=\"sk-estimator sk-toggleable\"><input class=\"sk-toggleable__control sk-hidden--visually\" id=\"sk-estimator-id-3\" type=\"checkbox\" ><label for=\"sk-estimator-id-3\" class=\"sk-toggleable__label sk-toggleable__label-arrow\">LogisticRegression</label><div class=\"sk-toggleable__content\"><pre>LogisticRegression(max_iter=10000)</pre></div></div></div></div></div></div></div></div></div></div>"
      ],
      "text/plain": [
       "GridSearchCV(cv=5, estimator=LogisticRegression(max_iter=10000),\n",
       "             param_grid={'C': [0.01, 0.1, 1, 10, 100]},\n",
       "             return_train_score=True)"
      ]
     },
     "execution_count": 3,
     "metadata": {},
     "output_type": "execute_result"
    }
   ],
   "source": [
    "# Define the parameter grid for logistic regression\n",
    "param_grid = {'C': [0.01, 0.1, 1, 10, 100]}\n",
    "\n",
    "# Create a logistic regression model\n",
    "logreg = LogisticRegression(max_iter=10000)\n",
    "\n",
    "# Perform grid search with cross-validation\n",
    "grid_search = GridSearchCV(logreg, param_grid, cv=5, return_train_score=True)\n",
    "grid_search.fit(X_train, y_train)"
   ]
  },
  {
   "cell_type": "code",
   "execution_count": 4,
   "metadata": {},
   "outputs": [
    {
     "data": {
      "image/png": "[encoded data removed]",
      "text/plain": [
       "<Figure size 432x288 with 1 Axes>"
      ]
     },
     "metadata": {
      "needs_background": "light"
     },
     "output_type": "display_data"
    }
   ],
   "source": [
    "# Plot the train-test accuracy for different values of C\n",
    "plt.plot(param_grid['C'], grid_search.cv_results_['mean_train_score'], 'o-', label='Train score')\n",
    "plt.plot(param_grid['C'], grid_search.cv_results_['mean_test_score'], 'o-', label='Test score')\n",
    "plt.xscale('log')\n",
    "plt.xlabel('C')\n",
    "plt.ylabel('Accuracy')\n",
    "plt.legend()\n",
    "plt.show()"
   ]
  },
  {
   "attachments": {},
   "cell_type": "markdown",
   "metadata": {},
   "source": [
    "2) What are the important features here? Check using KNN. For example train your KNN model on one feature and calculate the accuracy, then add second feature and check the accuracy and so on."
   ]
  },
  {
   "cell_type": "code",
   "execution_count": 41,
   "metadata": {},
   "outputs": [],
   "source": [
    "from sklearn.neighbors import KNeighborsClassifier\n",
    "\n",
    "# split into train and test sets\n",
    "X_train, X_test, y_train, y_test = train_test_split(X, y, test_size=0.2, random_state=42)"
   ]
  },
  {
   "cell_type": "code",
   "execution_count": 42,
   "metadata": {},
   "outputs": [],
   "source": [
    "# train KNN model on each feature separately and calculate accuracy\n",
    "feature_accuracies = []\n",
    "for i, col in enumerate(X.columns):\n",
    "    knn = KNeighborsClassifier()\n",
    "    knn.fit(X_train.iloc[:, i:i+1], y_train)\n",
    "    acc = knn.score(X_test.iloc[:, i:i+1], y_test)\n",
    "    feature_accuracies.append((col, acc))\n"
   ]
  },
  {
   "cell_type": "code",
   "execution_count": 43,
   "metadata": {},
   "outputs": [
    {
     "name": "stdout",
     "output_type": "stream",
     "text": [
      "Feature accuracies:\n",
      "odor_n: 0.8782\n",
      "ring_type_p: 0.7742\n",
      "stalk_surface_above_ring_k: 0.7618\n",
      "gill_size_n: 0.7409\n",
      "bruises_t: 0.7366\n",
      "stalk_surface_above_ring_s: 0.7342\n",
      "population_v: 0.7132\n",
      "stalk_surface_below_ring_s: 0.6978\n",
      "spore_print_color_n: 0.6695\n",
      "spore_print_color_k: 0.6554\n",
      "gill_spacing_w: 0.6203\n",
      "stalk_color_above_ring_p: 0.6086\n",
      "odor_s: 0.5834\n",
      "gill_color_n: 0.5778\n",
      "habitat_g: 0.5569\n",
      "stalk_root_e: 0.5532\n",
      "stalk_color_below_ring_g: 0.5514\n",
      "cap_color_e: 0.5508\n",
      "stalk_color_above_ring_g: 0.5508\n",
      "cap_surface_y: 0.5495\n",
      "habitat_l: 0.5489\n",
      "population_s: 0.5391\n",
      "odor_l: 0.5385\n",
      "stalk_root_c: 0.5378\n",
      "population_y: 0.5366\n",
      "gill_color_u: 0.5305\n",
      "ring_number_t: 0.5305\n",
      "population_n: 0.5286\n",
      "ring_number_o: 0.5274\n",
      "gill_color_p: 0.5200\n",
      "stalk_shape_t: 0.5188\n",
      "stalk_color_above_ring_w: 0.5188\n",
      "stalk_root_r: 0.5108\n",
      "cap_shape_f: 0.5089\n",
      "habitat_m: 0.5083\n",
      "stalk_color_above_ring_o: 0.5058\n",
      "stalk_color_below_ring_o: 0.5058\n",
      "veil_color_w: 0.5052\n",
      "population_c: 0.5052\n",
      "gill_attachment_f: 0.5046\n",
      "stalk_surface_below_ring_y: 0.5034\n",
      "habitat_w: 0.4978\n",
      "veil_color_o: 0.4972\n",
      "gill_color_o: 0.4905\n",
      "gill_color_e: 0.4898\n",
      "gill_color_y: 0.4898\n",
      "stalk_color_above_ring_e: 0.4898\n",
      "spore_print_color_u: 0.4898\n",
      "stalk_color_below_ring_e: 0.4892\n",
      "spore_print_color_y: 0.4892\n",
      "ring_type_f: 0.4874\n",
      "spore_print_color_o: 0.4868\n",
      "cap_shape_s: 0.4843\n",
      "cap_color_c: 0.4837\n",
      "cap_color_r: 0.4837\n",
      "cap_color_u: 0.4825\n",
      "stalk_surface_above_ring_y: 0.4825\n",
      "cap_shape_c: 0.4812\n",
      "cap_shape_k: 0.4812\n",
      "cap_shape_x: 0.4812\n",
      "cap_surface_g: 0.4812\n",
      "cap_surface_s: 0.4812\n",
      "cap_color_g: 0.4812\n",
      "cap_color_n: 0.4812\n",
      "cap_color_w: 0.4812\n",
      "cap_color_y: 0.4812\n",
      "odor_c: 0.4812\n",
      "odor_f: 0.4812\n",
      "odor_m: 0.4812\n",
      "odor_p: 0.4812\n",
      "odor_y: 0.4812\n",
      "gill_color_h: 0.4812\n",
      "gill_color_k: 0.4812\n",
      "gill_color_r: 0.4812\n",
      "gill_color_w: 0.4812\n",
      "stalk_root_b: 0.4812\n",
      "stalk_surface_below_ring_k: 0.4812\n",
      "stalk_color_above_ring_c: 0.4812\n",
      "stalk_color_above_ring_n: 0.4812\n",
      "stalk_color_above_ring_y: 0.4812\n",
      "stalk_color_below_ring_c: 0.4812\n",
      "stalk_color_below_ring_n: 0.4812\n",
      "stalk_color_below_ring_p: 0.4812\n",
      "stalk_color_below_ring_y: 0.4812\n",
      "veil_color_y: 0.4812\n",
      "ring_type_l: 0.4812\n",
      "ring_type_n: 0.4812\n",
      "spore_print_color_h: 0.4812\n",
      "spore_print_color_r: 0.4812\n",
      "spore_print_color_w: 0.4812\n",
      "habitat_p: 0.4812\n",
      "habitat_u: 0.4812\n",
      "cap_color_p: 0.4738\n",
      "gill_color_g: 0.4449\n",
      "stalk_color_below_ring_w: 0.3969\n"
     ]
    }
   ],
   "source": [
    "# sort features by accuracy and print\n",
    "feature_accuracies.sort(key=lambda x: x[1], reverse=True)\n",
    "print('Feature accuracies:')\n",
    "for feat, acc in feature_accuracies:\n",
    "    print(f'{feat}: {acc:.4f}')"
   ]
  },
  {
   "cell_type": "code",
   "execution_count": null,
   "metadata": {},
   "outputs": [],
   "source": []
  }
 ],
 "metadata": {
  "kernelspec": {
   "display_name": "base",
   "language": "python",
   "name": "python3"
  },
  "language_info": {
   "codemirror_mode": {
    "name": "ipython",
    "version": 3
   },
   "file_extension": ".py",
   "mimetype": "text/x-python",
   "name": "python",
   "nbconvert_exporter": "python",
   "pygments_lexer": "ipython3",
   "version": "3.9.12"
  },
  "orig_nbformat": 4
 },
 "nbformat": 4,
 "nbformat_minor": 2
}
