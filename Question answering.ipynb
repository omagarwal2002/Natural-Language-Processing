{
 "cells": [
  {
   "attachments": {},
   "cell_type": "markdown",
   "metadata": {},
   "source": [
    "Question answering system using information retrieval"
   ]
  },
  {
   "cell_type": "code",
   "execution_count": 1,
   "metadata": {},
   "outputs": [],
   "source": [
    "import nltk\n",
    "from nltk.corpus import stopwords\n",
    "from sklearn.feature_extraction.text import TfidfVectorizer\n",
    "from sklearn.metrics.pairwise import cosine_similarity"
   ]
  },
  {
   "cell_type": "code",
   "execution_count": 2,
   "metadata": {},
   "outputs": [],
   "source": [
    "# Initialize a list of documents (or passages)\n",
    "documents = [\n",
    "    \"The quick brown fox jumped over the lazy dog.\",\n",
    "    \"The dog was too lazy to chase the fox.\",\n",
    "    \"The quick brown fox is an agile animal.\",\n",
    "    \"The lazy dog is a common household pet.\",\n",
    "]\n",
    "\n",
    "# Tokenize and preprocess the documents\n",
    "stop_words = set(stopwords.words('english'))\n",
    "lemmatizer = nltk.stem.WordNetLemmatizer()"
   ]
  },
  {
   "cell_type": "code",
   "execution_count": 3,
   "metadata": {},
   "outputs": [],
   "source": [
    "def preprocess(text):\n",
    "    words = nltk.word_tokenize(text.lower())\n",
    "    words = [lemmatizer.lemmatize(w) for w in words if w.isalpha()]\n",
    "    words = [w for w in words if not w in stop_words]\n",
    "    return ' '.join(words)"
   ]
  },
  {
   "cell_type": "code",
   "execution_count": 4,
   "metadata": {},
   "outputs": [],
   "source": [
    "preprocessed_documents = [preprocess(d) for d in documents]\n",
    "\n",
    "# Create a TF-IDF vectorizer\n",
    "vectorizer = TfidfVectorizer()\n",
    "tfidf_matrix = vectorizer.fit_transform(preprocessed_documents)"
   ]
  },
  {
   "cell_type": "code",
   "execution_count": 5,
   "metadata": {},
   "outputs": [],
   "source": [
    "# Define a function to perform question answering\n",
    "def answer_question(question):\n",
    "    # Preprocess the question\n",
    "    preprocessed_question = preprocess(question)\n",
    "\n",
    "    # Calculate the similarity between the question and each document\n",
    "    question_vector = vectorizer.transform([preprocessed_question])\n",
    "    similarities = cosine_similarity(question_vector, tfidf_matrix)[0]\n",
    "\n",
    "    # Find the most similar document\n",
    "    most_similar_index = similarities.argmax()\n",
    "    most_similar_document = documents[most_similar_index]\n",
    "\n",
    "    # Return the answer from the most similar document\n",
    "    return most_similar_document"
   ]
  },
  {
   "cell_type": "code",
   "execution_count": 6,
   "metadata": {},
   "outputs": [
    {
     "name": "stdout",
     "output_type": "stream",
     "text": [
      "Question: What did the lazy dog do?\n",
      "Answer: The dog was too lazy to chase the fox.\n"
     ]
    }
   ],
   "source": [
    "# Test the question answering system\n",
    "question = \"What did the lazy dog do?\"\n",
    "answer = answer_question(question)\n",
    "print(\"Question:\", question)\n",
    "print(\"Answer:\", answer)"
   ]
  },
  {
   "cell_type": "code",
   "execution_count": null,
   "metadata": {},
   "outputs": [],
   "source": []
  }
 ],
 "metadata": {
  "kernelspec": {
   "display_name": "base",
   "language": "python",
   "name": "python3"
  },
  "language_info": {
   "codemirror_mode": {
    "name": "ipython",
    "version": 3
   },
   "file_extension": ".py",
   "mimetype": "text/x-python",
   "name": "python",
   "nbconvert_exporter": "python",
   "pygments_lexer": "ipython3",
   "version": "3.9.12"
  },
  "orig_nbformat": 4
 },
 "nbformat": 4,
 "nbformat_minor": 2
}
