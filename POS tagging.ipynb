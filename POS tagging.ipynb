{
 "cells": [
  {
   "attachments": {},
   "cell_type": "markdown",
   "metadata": {},
   "source": [
    "POS tagging using spacy library"
   ]
  },
  {
   "cell_type": "code",
   "execution_count": 28,
   "metadata": {},
   "outputs": [
    {
     "data": {
      "text/html": [
       "<div>\n",
       "<style scoped>\n",
       "    .dataframe tbody tr th:only-of-type {\n",
       "        vertical-align: middle;\n",
       "    }\n",
       "\n",
       "    .dataframe tbody tr th {\n",
       "        vertical-align: top;\n",
       "    }\n",
       "\n",
       "    .dataframe thead th {\n",
       "        text-align: right;\n",
       "    }\n",
       "</style>\n",
       "<table border=\"1\" class=\"dataframe\">\n",
       "  <thead>\n",
       "    <tr style=\"text-align: right;\">\n",
       "      <th></th>\n",
       "      <th>Date</th>\n",
       "      <th>User</th>\n",
       "      <th>Number of likes</th>\n",
       "      <th>Tweeted from</th>\n",
       "      <th>Tweets</th>\n",
       "    </tr>\n",
       "  </thead>\n",
       "  <tbody>\n",
       "    <tr>\n",
       "      <th>0</th>\n",
       "      <td>2023-01-24 09:09:13+00:00</td>\n",
       "      <td>guest_graham</td>\n",
       "      <td>0</td>\n",
       "      <td>Twitter for Android</td>\n",
       "      <td>This is a massive example of how being part of...</td>\n",
       "    </tr>\n",
       "    <tr>\n",
       "      <th>1</th>\n",
       "      <td>2023-01-24 09:05:59+00:00</td>\n",
       "      <td>ZakWillow64</td>\n",
       "      <td>0</td>\n",
       "      <td>Twitter Web App</td>\n",
       "      <td>@BILDERBERG_GP Brexit has fell apart the torie...</td>\n",
       "    </tr>\n",
       "    <tr>\n",
       "      <th>2</th>\n",
       "      <td>2023-01-24 09:05:01+00:00</td>\n",
       "      <td>badJournalisme</td>\n",
       "      <td>0</td>\n",
       "      <td>Twitter Web App</td>\n",
       "      <td>@DmitryOpines @Mark_LawPanel @AlbertoNardelli ...</td>\n",
       "    </tr>\n",
       "    <tr>\n",
       "      <th>3</th>\n",
       "      <td>2023-01-24 09:04:41+00:00</td>\n",
       "      <td>eberlmat</td>\n",
       "      <td>0</td>\n",
       "      <td>Twitter Web App</td>\n",
       "      <td>Given the disastrous state of the UK economy @...</td>\n",
       "    </tr>\n",
       "    <tr>\n",
       "      <th>4</th>\n",
       "      <td>2023-01-24 09:00:53+00:00</td>\n",
       "      <td>gigtogiguk</td>\n",
       "      <td>0</td>\n",
       "      <td>Adobe Express</td>\n",
       "      <td>New growth figures are a positive sign for the...</td>\n",
       "    </tr>\n",
       "  </tbody>\n",
       "</table>\n",
       "</div>"
      ],
      "text/plain": [
       "                        Date            User  Number of likes  \\\n",
       "0  2023-01-24 09:09:13+00:00    guest_graham                0   \n",
       "1  2023-01-24 09:05:59+00:00     ZakWillow64                0   \n",
       "2  2023-01-24 09:05:01+00:00  badJournalisme                0   \n",
       "3  2023-01-24 09:04:41+00:00        eberlmat                0   \n",
       "4  2023-01-24 09:00:53+00:00      gigtogiguk                0   \n",
       "\n",
       "          Tweeted from                                             Tweets  \n",
       "0  Twitter for Android  This is a massive example of how being part of...  \n",
       "1      Twitter Web App  @BILDERBERG_GP Brexit has fell apart the torie...  \n",
       "2      Twitter Web App  @DmitryOpines @Mark_LawPanel @AlbertoNardelli ...  \n",
       "3      Twitter Web App  Given the disastrous state of the UK economy @...  \n",
       "4        Adobe Express  New growth figures are a positive sign for the...  "
      ]
     },
     "execution_count": 28,
     "metadata": {},
     "output_type": "execute_result"
    }
   ],
   "source": [
    "import pandas as pd\n",
    "df = pd.read_csv(r'F:\\VS Code\\NLP Lab\\uk_economy.csv')\n",
    "df.head(5)"
   ]
  },
  {
   "cell_type": "code",
   "execution_count": 29,
   "metadata": {},
   "outputs": [],
   "source": [
    "df=df.drop(columns=[\"Date\", \"User\",\"Number of likes\",\"Tweeted from\"])"
   ]
  },
  {
   "cell_type": "code",
   "execution_count": 30,
   "metadata": {},
   "outputs": [
    {
     "data": {
      "text/html": [
       "<div>\n",
       "<style scoped>\n",
       "    .dataframe tbody tr th:only-of-type {\n",
       "        vertical-align: middle;\n",
       "    }\n",
       "\n",
       "    .dataframe tbody tr th {\n",
       "        vertical-align: top;\n",
       "    }\n",
       "\n",
       "    .dataframe thead th {\n",
       "        text-align: right;\n",
       "    }\n",
       "</style>\n",
       "<table border=\"1\" class=\"dataframe\">\n",
       "  <thead>\n",
       "    <tr style=\"text-align: right;\">\n",
       "      <th></th>\n",
       "      <th>Tweets</th>\n",
       "    </tr>\n",
       "  </thead>\n",
       "  <tbody>\n",
       "    <tr>\n",
       "      <th>0</th>\n",
       "      <td>This is a massive example of how being part of...</td>\n",
       "    </tr>\n",
       "    <tr>\n",
       "      <th>1</th>\n",
       "      <td>@BILDERBERG_GP Brexit has fell apart the torie...</td>\n",
       "    </tr>\n",
       "    <tr>\n",
       "      <th>2</th>\n",
       "      <td>@DmitryOpines @Mark_LawPanel @AlbertoNardelli ...</td>\n",
       "    </tr>\n",
       "    <tr>\n",
       "      <th>3</th>\n",
       "      <td>Given the disastrous state of the UK economy @...</td>\n",
       "    </tr>\n",
       "    <tr>\n",
       "      <th>4</th>\n",
       "      <td>New growth figures are a positive sign for the...</td>\n",
       "    </tr>\n",
       "  </tbody>\n",
       "</table>\n",
       "</div>"
      ],
      "text/plain": [
       "                                              Tweets\n",
       "0  This is a massive example of how being part of...\n",
       "1  @BILDERBERG_GP Brexit has fell apart the torie...\n",
       "2  @DmitryOpines @Mark_LawPanel @AlbertoNardelli ...\n",
       "3  Given the disastrous state of the UK economy @...\n",
       "4  New growth figures are a positive sign for the..."
      ]
     },
     "execution_count": 30,
     "metadata": {},
     "output_type": "execute_result"
    }
   ],
   "source": [
    "df.head(5)"
   ]
  },
  {
   "cell_type": "code",
   "execution_count": 31,
   "metadata": {},
   "outputs": [],
   "source": [
    "import spacy\n",
    "\n",
    "nlp = spacy.load('en_core_web_sm')"
   ]
  },
  {
   "cell_type": "code",
   "execution_count": 32,
   "metadata": {},
   "outputs": [],
   "source": [
    "def pos_tag(sentence):\n",
    "    doc = nlp(sentence)\n",
    "    pos_tags = [(token.text, token.pos_) for token in doc]\n",
    "    return pos_tags\n",
    "\n",
    "df['pos_tags'] = df['Tweets'].apply(pos_tag)"
   ]
  },
  {
   "cell_type": "code",
   "execution_count": 33,
   "metadata": {},
   "outputs": [
    {
     "data": {
      "text/plain": [
       "0    [(This, PRON), (is, AUX), (a, DET), (massive, ...\n",
       "1    [(@BILDERBERG_GP, X), (Brexit, PROPN), (has, A...\n",
       "2    [(@DmitryOpines, VERB), (@Mark_LawPanel, X), (...\n",
       "3    [(Given, VERB), (the, DET), (disastrous, ADJ),...\n",
       "4    [(New, ADJ), (growth, NOUN), (figures, NOUN), ...\n",
       "Name: pos_tags, dtype: object"
      ]
     },
     "execution_count": 33,
     "metadata": {},
     "output_type": "execute_result"
    }
   ],
   "source": [
    "df['pos_tags'].head(5)"
   ]
  },
  {
   "cell_type": "code",
   "execution_count": null,
   "metadata": {},
   "outputs": [],
   "source": []
  }
 ],
 "metadata": {
  "kernelspec": {
   "display_name": "base",
   "language": "python",
   "name": "python3"
  },
  "language_info": {
   "codemirror_mode": {
    "name": "ipython",
    "version": 3
   },
   "file_extension": ".py",
   "mimetype": "text/x-python",
   "name": "python",
   "nbconvert_exporter": "python",
   "pygments_lexer": "ipython3",
   "version": "3.9.12"
  },
  "orig_nbformat": 4
 },
 "nbformat": 4,
 "nbformat_minor": 2
}
